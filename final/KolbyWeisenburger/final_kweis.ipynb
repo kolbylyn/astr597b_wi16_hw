{
 "cells": [
  {
   "cell_type": "markdown",
   "metadata": {},
   "source": [
    "# ASTR597 -- Final Project (Import PTF file into LSD)\n",
    "Kolby Weisenburger\n",
    "\n",
    "3 March 2016"
   ]
  },
  {
   "cell_type": "code",
   "execution_count": 1,
   "metadata": {
    "collapsed": false
   },
   "outputs": [],
   "source": [
    "import matplotlib.pyplot as plt\n",
    "import numpy as np\n",
    "import sqlite3\n",
    "from astropy.table import Table\n",
    "import pandas as pd\n",
    "import os \n",
    "%matplotlib inline"
   ]
  },
  {
   "cell_type": "code",
   "execution_count": 2,
   "metadata": {
    "collapsed": true
   },
   "outputs": [],
   "source": [
    "import os\n",
    "os.environ['NWORKERS'] = '8'\n",
    "os.environ['LSD_CACHEDIR'] = os.environ['HOME'] + '/tempdir'\n",
    "os.environ['LSD_TEMPDIR'] = os.environ['HOME'] + '/tempdir'\n",
    "os.environ['LSD_DB'] = os.environ['HOME']+'/lsddb:/astro/apps6/opt/lsddb'"
   ]
  },
  {
   "cell_type": "code",
   "execution_count": 3,
   "metadata": {
    "collapsed": true
   },
   "outputs": [],
   "source": [
    "from lsd import DB\n",
    "from lsd.bounds import beam, rectangle"
   ]
  },
  {
   "cell_type": "code",
   "execution_count": 52,
   "metadata": {
    "collapsed": false
   },
   "outputs": [
    {
     "name": "stdout",
     "output_type": "stream",
     "text": [
      "# Schema for PTF catalog\r\n",
      "filters: {complevel: 5, complib: blosc}\r\n",
      "schema:\r\n",
      "  common:\r\n",
      "    primary_key: ra\r\n",
      "    spatial_keys: [ra, dec]\r\n",
      "    columns:\r\n",
      "    - [ra, f8] \r\n",
      "    - [dec, f8] \r\n",
      "    - [np, i4]\r\n",
      "    - [nt, i4]\r\n",
      "    - [ptffield, i8]                                                                                                                \r\n",
      "    - [ci, i4]                                                                                                                      \r\n",
      "    - [flag, i4]                                                                                                                    \r\n",
      "    - [bstrms, f8]                                                                                                                  \r\n",
      "    - [rptf, f8]                                                                                                                    \r\n",
      "    - [rerr, f8]                                                                                                                    \r\n",
      "    - [rmerr, f8]                                                                                                                   \r\n",
      "    - [rperr, f8]                                                                                                                   \r\n",
      "    - [mutype, f8]                                                                                                                  \r\n",
      "    - [errmu, f8]  \r\n"
     ]
    }
   ],
   "source": [
    "!  cat ptf.yaml"
   ]
  },
  {
   "cell_type": "code",
   "execution_count": 51,
   "metadata": {
    "collapsed": false
   },
   "outputs": [
    {
     "name": "stdout",
     "output_type": "stream",
     "text": [
      "Table 'ptf' dropped.\n",
      "\n",
      "-------- committing 20160321215242.159157 [ptf] ---------\n",
      "[ptf] Updating tablet catalog: [256 el.]::::::::::::::::::::>  0.25 sec\n",
      "[ptf] Updating neighbors: Already up to date.\n",
      "[ptf] Updating tablet catalog: [256 el.]::::::::::::::::::::>  0.25 sec\n",
      "[ptf] Updating stats: [0 el.]>  0.00 sec\n",
      "[ptf] Marking tablets read-only...\n",
      "----------- success 20160321215242.159157 [ptf] ---------\n",
      "\n",
      "Table 'ptf' created.\n"
     ]
    }
   ],
   "source": [
    "! lsd-admin create table --schema ptf.yaml ptf --drop-existing"
   ]
  },
  {
   "cell_type": "code",
   "execution_count": 44,
   "metadata": {
    "collapsed": false
   },
   "outputs": [
    {
     "name": "stdout",
     "output_type": "stream",
     "text": [
      "usage: lsd-import text [-h] [-d DELIMITER] [-c COLS] [--cols-file COLS_FILE]\r\n",
      "                       [-f] [--import-primary-key] [--skip-header SKIP_HEADER]\r\n",
      "                       [--dms DMS] [--hms HMS] [--set SET]\r\n",
      "                       table file [file ...]\r\n",
      "\r\n",
      "positional arguments:\r\n",
      "  table                 Name of the table into which to import\r\n",
      "  file                  One or more text files. If ending in .gz or .bz2, they\r\n",
      "                        are assumed to be compressed.\r\n",
      "\r\n",
      "optional arguments:\r\n",
      "  -h, --help            show this help message and exit\r\n",
      "  -d DELIMITER, --delimiter DELIMITER\r\n",
      "                        The string used to separate values. By default, any\r\n",
      "                        consecutive whitespaces will act as delimiter\r\n",
      "  -c COLS, --cols COLS  Comma separated list of <colname>:<file_column>, where\r\n",
      "                        <file_column> is a 1-based index of the column in the\r\n",
      "                        file that is to be loaded into <colname>\r\n",
      "  --cols-file COLS_FILE\r\n",
      "                        A file with two, whitespace delimited columns,\r\n",
      "                        <colname> <file_column>, having the same meaning as\r\n",
      "                        arguments to --cols\r\n",
      "  -f, --force           Ignore any errors found in input data files\r\n",
      "  --import-primary-key  The input files contain the primary key values. Load\r\n",
      "                        these instead of automatically asigning new ones.\r\n",
      "  --skip-header SKIP_HEADER\r\n",
      "                        Number of lines to skip at the beginning of each input\r\n",
      "                        file\r\n",
      "  --dms DMS             Columns that are stored in hexagessimal dd:mm:ss.ss\r\n",
      "                        format\r\n",
      "  --hms HMS             Columns that are stored in hexagessimal hh:mm:ss.ss\r\n",
      "                        format\r\n",
      "  --set SET             Comma separated list of <colname>=<value>, giving the\r\n",
      "                        values to which the specified columns are to be set.\r\n",
      "                        The columns given here must not appear in argument to\r\n",
      "                        --cols.\r\n"
     ]
    }
   ],
   "source": [
    "# learn how to import a text file\n",
    "! lsd-import text -h "
   ]
  },
  {
   "cell_type": "code",
   "execution_count": 56,
   "metadata": {
    "collapsed": false
   },
   "outputs": [
    {
     "name": "stdout",
     "output_type": "stream",
     "text": [
      "ra 1\r\n",
      "dec 2\r\n",
      "np 3\r\n",
      "nt 4\r\n",
      "bstrms 5\r\n",
      "rptf 6\r\n",
      "rerr 7\r\n",
      "rmerr 8\r\n",
      "rperr 9\r\n",
      "mutype 10\r\n",
      "errmu 11\r\n",
      "ptffield 12\r\n",
      "ci 13\r\n",
      "flag 14\r\n"
     ]
    }
   ],
   "source": [
    "! cat ptf.map"
   ]
  },
  {
   "cell_type": "code",
   "execution_count": 62,
   "metadata": {
    "collapsed": false
   },
   "outputs": [
    {
     "name": "stdout",
     "output_type": "stream",
     "text": [
      "Importing from 1 pieces:\r\n",
      "------ rolling back 20160321215711.339247 ---------\r\n",
      "\r\n",
      "Traceback (most recent call last):\r\n",
      "  File \"/astro/apps6/opt/anaconda2.4/bin/lsd-import\", line 88, in <module>\r\n",
      "    args.func(args)\r\n",
      "  File \"/astro/apps6/opt/anaconda2.4/bin/lsd-import\", line 53, in chunk_importer\r\n",
      "    import_from_chunks(db, importer, chunks)\r\n",
      "  File \"/astro/apps6/opt/anaconda2.4/bin/lsd-import\", line 30, in import_from_chunks\r\n",
      "    for (chunk, nloaded, nin) in pool.imap_unordered(chunks, import_from_chunks_aux, (db, importer,), progress_callback=pool2.progress_pass):\r\n",
      "  File \"/astro/apps6/opt/anaconda2.4/lib/python2.7/site-packages/lsd/pool2.py\", line 466, in imap_unordered\r\n",
      "    for result in mapper(item, *mapper_args):\r\n",
      "  File \"/astro/apps6/opt/anaconda2.4/bin/lsd-import\", line 20, in import_from_chunks_aux\r\n",
      "    ret = importer(db, chunk, *importer_args)\r\n",
      "  File \"/astro/apps6/opt/anaconda2.4/lib/python2.7/site-packages/lsd/importers/text.py\", line 79, in __call__\r\n",
      "    ids = db.table(self.tabname).append(rows, _update=self.import_primary_key)\r\n",
      "  File \"/astro/apps6/opt/anaconda2.4/lib/python2.7/site-packages/lsd/table.py\", line 1114, in append\r\n",
      "    cols.add_column(self.resolve_alias(name), col)\r\n",
      "  File \"/astro/apps6/opt/anaconda2.4/lib/python2.7/site-packages/lsd/colgroup.py\", line 385, in add_column\r\n",
      "    assert self.ncols() == 0 or (len(col) == self.nrows()), str(len(col)) + \" != \" + str(self.nrows())\r\n",
      "TypeError: len() of unsized object\r\n"
     ]
    }
   ],
   "source": [
    "! lsd-import text --cols-file ptf.map ptf ptf_catalog.txt"
   ]
  },
  {
   "cell_type": "raw",
   "metadata": {},
   "source": [
    "Shoot. I have no idea why I get this error now when I had more data it would create the file and the output looked like this:\n",
    "\n",
    "\n",
    "\n",
    "Importing from 1 pieces:\n",
    "  ===> Imported ptf_catalog.txt                                                      [1/1, 100.00%] +  382/382       5 (0/0 min.)\n",
    "done\n",
    "\n",
    "-------- committing 20160304152842.181722 [ptf] ---------\n",
    "[ptf] Updating tablet catalog: [256 el.]::::::::::::::::::::>  0.04 sec\n",
    "[ptf] Updating neighbors: [1 el.]::::::::::::::::::::[17 el.]++++++++++++++++++++>  0.40 sec\n",
    "           Total 4121 cached objects in 17 cells\n",
    "[ptf] Updating tablet catalog: [256 el.]::::::::::::::::::::>  0.13 sec\n",
    "[ptf] Updating stats: [18 el.]::::::::::::::::::::>  0.02 sec [18 el.]::::::::::::::::::::>  0.04 sec\n",
    "[ptf] Marking tablets read-only...\n",
    "----------- success 20160304152842.181722 [ptf] ---------\n",
    "\n",
    "\n",
    "but now that I have rearranged the columns I cannot recreate the final output."
   ]
  },
  {
   "cell_type": "code",
   "execution_count": null,
   "metadata": {
    "collapsed": true
   },
   "outputs": [],
   "source": []
  }
 ],
 "metadata": {
  "kernelspec": {
   "display_name": "Python 2",
   "language": "python",
   "name": "python2"
  },
  "language_info": {
   "codemirror_mode": {
    "name": "ipython",
    "version": 2
   },
   "file_extension": ".py",
   "mimetype": "text/x-python",
   "name": "python",
   "nbconvert_exporter": "python",
   "pygments_lexer": "ipython2",
   "version": "2.7.11"
  }
 },
 "nbformat": 4,
 "nbformat_minor": 0
}
